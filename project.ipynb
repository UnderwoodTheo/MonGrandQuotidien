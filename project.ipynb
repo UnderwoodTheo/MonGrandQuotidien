{
 "cells": [
  {
   "cell_type": "markdown",
   "metadata": {},
   "source": [
    "# Import and config"
   ]
  },
  {
   "cell_type": "code",
   "execution_count": 563,
   "metadata": {},
   "outputs": [],
   "source": [
    "from selenium import webdriver\n",
    "from selenium.webdriver.chrome.options import Options\n",
    "from selenium.webdriver.chrome.service import Service\n",
    "from webdriver_manager.chrome import ChromeDriverManager\n",
    "from webdriver_manager.core.utils import ChromeType\n",
    "from selenium.webdriver.common.by import By\n",
    "from selenium.webdriver.common.keys import Keys\n",
    "\n",
    "import pandas as pd\n",
    "import numpy as np\n",
    "import re\n",
    "import string\n",
    "import spacy\n",
    "import statistics\n",
    "import textstat\n",
    "import time\n",
    "from datetime import datetime\n",
    "\n",
    "from bs4 import BeautifulSoup\n",
    "from jinja2 import Template\n",
    "from IPython.display import HTML, Image\n",
    "import webbrowser\n",
    "\n",
    "from newspaper.article import ArticleException\n",
    "from newspaper import Article\n",
    "from nltk.tokenize import word_tokenize\n",
    "from nltk.tokenize import sent_tokenize\n",
    "from nltk.corpus import stopwords\n",
    "from vaderSentiment_fr.vaderSentiment import SentimentIntensityAnalyzer\n",
    "SIA = SentimentIntensityAnalyzer()\n",
    "nlp = spacy.load('fr_core_news_sm')"
   ]
  },
  {
   "cell_type": "markdown",
   "metadata": {},
   "source": [
    "Our main browser is Brave so here is its config."
   ]
  },
  {
   "cell_type": "code",
   "execution_count": 357,
   "metadata": {},
   "outputs": [],
   "source": [
    "options = Options()\n",
    "options.binary_location = r'C:/Program Files/BraveSoftware/Brave-Browser/Application/brave.exe'\n",
    "driver_path = ChromeDriverManager(chrome_type=ChromeType.BRAVE).install()\n",
    "service = Service(executable_path=driver_path)\n",
    "options.add_argument('--tor')\n",
    "options.add_argument('--headless')\n",
    "options.add_argument('-no-sandbox')\n",
    "options.add_argument('-disable-dev-shm-usage')\n",
    "options.add_argument(\"enable-automation\")\n",
    "options.add_argument(\"--window-size=1920,1080\")\n",
    "options.add_argument(\"--disable-extensions\")\n",
    "options.add_argument(\"--dns-prefetch-disable\")\n",
    "options.add_argument(\"--disable-gpu\")\n",
    "driver = webdriver.Chrome(options=options, service=service)"
   ]
  },
  {
   "cell_type": "markdown",
   "metadata": {},
   "source": [
    "# Twitter trends"
   ]
  },
  {
   "cell_type": "code",
   "execution_count": 358,
   "metadata": {},
   "outputs": [
    {
     "data": {
      "text/plain": [
       "'https://twitter.com/i/trends'"
      ]
     },
     "execution_count": 358,
     "metadata": {},
     "output_type": "execute_result"
    }
   ],
   "source": [
    "driver.get('https://twitter.com/i/trends')\n",
    "driver.current_url"
   ]
  },
  {
   "cell_type": "code",
   "execution_count": 359,
   "metadata": {},
   "outputs": [
    {
     "data": {
      "text/plain": [
       "['Snapchat',\n",
       " '#greve19janvier',\n",
       " 'Hobi',\n",
       " 'Bein 2',\n",
       " '#PSGRiyadhSeasonTeam',\n",
       " 'Murray',\n",
       " 'Mister V',\n",
       " 'Stranger Things',\n",
       " 'Espagne',\n",
       " 'Caesar']"
      ]
     },
     "execution_count": 359,
     "metadata": {},
     "output_type": "execute_result"
    }
   ],
   "source": [
    "trends = [t.text for t in driver.find_elements(By.CLASS_NAME, 'css-901oao.r-18jsvk2.r-1qd0xha.r-a023e6.r-b88u0q.r-rjixqe.r-1bymd8e.r-bcqeeo.r-qvutc0')[:10]]\n",
    "trends"
   ]
  },
  {
   "cell_type": "markdown",
   "metadata": {},
   "source": [
    "# Google News"
   ]
  },
  {
   "cell_type": "code",
   "execution_count": 360,
   "metadata": {},
   "outputs": [
    {
     "data": {
      "text/plain": [
       "'https://consent.google.com/m?continue=https://news.google.com/home?hl%3Dfr%26gl%3DFR%26ceid%3DFR:fr&gl=FR&m=0&pc=n&hl=fr&src=1'"
      ]
     },
     "execution_count": 360,
     "metadata": {},
     "output_type": "execute_result"
    }
   ],
   "source": [
    "driver.get('https://news.google.com/home?hl=fr&gl=FR&ceid=FR:fr')\n",
    "driver.current_url"
   ]
  },
  {
   "cell_type": "markdown",
   "metadata": {},
   "source": [
    "The first time we arrived on Google News we need to accept cookies."
   ]
  },
  {
   "cell_type": "code",
   "execution_count": 361,
   "metadata": {},
   "outputs": [
    {
     "data": {
      "text/plain": [
       "'https://news.google.com/home?hl=fr&gl=FR&ceid=FR:fr'"
      ]
     },
     "execution_count": 361,
     "metadata": {},
     "output_type": "execute_result"
    }
   ],
   "source": [
    "agree_box = driver.find_elements(By.CLASS_NAME, 'VfPpkd-LgbsSe VfPpkd-LgbsSe-OWXEXe-k8QpJ VfPpkd-LgbsSe-OWXEXe-dgl2Hf nCP5yc AjY5Oe DuMIQc LQeN7 Nc7WLe'.replace(' ', '.'))[1]\n",
    "agree_box.submit()\n",
    "driver.implicitly_wait(5)\n",
    "driver.current_url"
   ]
  },
  {
   "cell_type": "markdown",
   "metadata": {},
   "source": [
    "Now we are able to retrieve the name of the article, its newspaper and its link for each trends."
   ]
  },
  {
   "cell_type": "markdown",
   "metadata": {},
   "source": [
    "It takes about 30 seconds to save each page."
   ]
  },
  {
   "cell_type": "code",
   "execution_count": 362,
   "metadata": {},
   "outputs": [
    {
     "name": "stdout",
     "output_type": "stream",
     "text": [
      "https://news.google.com/search?q=Snapchat&hl=fr&gl=FR&ceid=FR%3Afr\n",
      "https://news.google.com/search?q=%23greve19janvier&hl=fr&gl=FR&ceid=FR%3Afr\n",
      "https://news.google.com/search?q=Hobi&hl=fr&gl=FR&ceid=FR%3Afr\n",
      "https://news.google.com/search?q=Bein%202&hl=fr&gl=FR&ceid=FR%3Afr\n",
      "https://news.google.com/search?q=%23PSGRiyadhSeasonTeam&hl=fr&gl=FR&ceid=FR%3Afr\n",
      "https://news.google.com/search?q=Murray&hl=fr&gl=FR&ceid=FR%3Afr\n",
      "https://news.google.com/search?q=Mister%20V&hl=fr&gl=FR&ceid=FR%3Afr\n",
      "https://news.google.com/search?q=Stranger%20Things&hl=fr&gl=FR&ceid=FR%3Afr\n",
      "https://news.google.com/search?q=Espagne&hl=fr&gl=FR&ceid=FR%3Afr\n",
      "https://news.google.com/search?q=Caesar&hl=fr&gl=FR&ceid=FR%3Afr\n",
      "0.0 minutes and 37.36444449424744 seconds\n"
     ]
    }
   ],
   "source": [
    "start = time.time()\n",
    "pages_html = []\n",
    "for t in trends:\n",
    "    driver.get('https://news.google.com/home?hl=fr&gl=FR&ceid=FR:fr')\n",
    "    search_box = driver.find_element(By.CLASS_NAME, 'Ax4B8.ZAGvjd')\n",
    "    search_box.send_keys(t)\n",
    "    search_box.send_keys(Keys.RETURN)\n",
    "    driver.implicitly_wait(5)\n",
    "    print(driver.current_url)\n",
    "    time.sleep(1)\n",
    "    page_source = driver.page_source\n",
    "    html = BeautifulSoup(page_source, 'html.parser')\n",
    "    articles = html.find_all('article', {'class': 'MQsxIb xTewfe R7GTQ keNKEd j7vNaf Cc0Z5d EjqUne'}, limit=10)\n",
    "    pages_html.append(articles)\n",
    "end = time.time()\n",
    "computation_time = end - start\n",
    "print(f'{computation_time//60} minutes and {computation_time%60} seconds')"
   ]
  },
  {
   "cell_type": "code",
   "execution_count": 363,
   "metadata": {
    "scrolled": true
   },
   "outputs": [
    {
     "data": {
      "text/plain": [
       "10"
      ]
     },
     "execution_count": 363,
     "metadata": {},
     "output_type": "execute_result"
    }
   ],
   "source": [
    "len(pages_html)"
   ]
  },
  {
   "cell_type": "markdown",
   "metadata": {},
   "source": [
    "## Articles ranking"
   ]
  },
  {
   "cell_type": "code",
   "execution_count": 70,
   "metadata": {},
   "outputs": [
    {
     "data": {
      "text/html": [
       "<img src=\"https://readable.com/wp-content/uploads/2019/04/lix2.png\"/>"
      ],
      "text/plain": [
       "<IPython.core.display.Image object>"
      ]
     },
     "execution_count": 70,
     "metadata": {},
     "output_type": "execute_result"
    }
   ],
   "source": [
    "Image(url='https://readable.com/wp-content/uploads/2019/04/lix2.png')"
   ]
  },
  {
   "cell_type": "code",
   "execution_count": 73,
   "metadata": {},
   "outputs": [
    {
     "data": {
      "text/html": [
       "<img src=\"https://readable.com/wp-content/uploads/2019/04/rix2.png\"/>"
      ],
      "text/plain": [
       "<IPython.core.display.Image object>"
      ]
     },
     "execution_count": 73,
     "metadata": {},
     "output_type": "execute_result"
    }
   ],
   "source": [
    "Image(url='https://readable.com/wp-content/uploads/2019/04/rix2.png')"
   ]
  },
  {
   "cell_type": "code",
   "execution_count": 71,
   "metadata": {},
   "outputs": [
    {
     "data": {
      "text/html": [
       "<img src=\"https://readable.com/wp-content/uploads/2017/01/FLESCHREADINGEASE.png\"/>"
      ],
      "text/plain": [
       "<IPython.core.display.Image object>"
      ]
     },
     "execution_count": 71,
     "metadata": {},
     "output_type": "execute_result"
    }
   ],
   "source": [
    "Image(url='https://readable.com/wp-content/uploads/2017/01/FLESCHREADINGEASE.png')"
   ]
  },
  {
   "cell_type": "code",
   "execution_count": 69,
   "metadata": {},
   "outputs": [
    {
     "data": {
      "text/html": [
       "<img src=\"https://readable.com/wp-content/uploads/2017/01/fleschkincaid.png\"/>"
      ],
      "text/plain": [
       "<IPython.core.display.Image object>"
      ]
     },
     "execution_count": 69,
     "metadata": {},
     "output_type": "execute_result"
    }
   ],
   "source": [
    "Image(url='https://readable.com/wp-content/uploads/2017/01/fleschkincaid.png')"
   ]
  },
  {
   "cell_type": "code",
   "execution_count": 74,
   "metadata": {},
   "outputs": [
    {
     "data": {
      "text/html": [
       "<img src=\"https://readable.com/wp-content/uploads/2017/03/gunning3.png\"/>"
      ],
      "text/plain": [
       "<IPython.core.display.Image object>"
      ]
     },
     "execution_count": 74,
     "metadata": {},
     "output_type": "execute_result"
    }
   ],
   "source": [
    "Image(url='https://readable.com/wp-content/uploads/2017/03/gunning3.png')"
   ]
  },
  {
   "cell_type": "code",
   "execution_count": 364,
   "metadata": {},
   "outputs": [
    {
     "data": {
      "text/html": [
       "<div>\n",
       "<style scoped>\n",
       "    .dataframe tbody tr th:only-of-type {\n",
       "        vertical-align: middle;\n",
       "    }\n",
       "\n",
       "    .dataframe tbody tr th {\n",
       "        vertical-align: top;\n",
       "    }\n",
       "\n",
       "    .dataframe thead th {\n",
       "        text-align: right;\n",
       "    }\n",
       "</style>\n",
       "<table border=\"1\" class=\"dataframe\">\n",
       "  <thead>\n",
       "    <tr style=\"text-align: right;\">\n",
       "      <th></th>\n",
       "      <th>LIX</th>\n",
       "      <th>RIX</th>\n",
       "      <th>FLESCH_READING_EASE</th>\n",
       "      <th>FLESCH_KINCAID_GRADE_LEVEL</th>\n",
       "      <th>GUNNING_FOG</th>\n",
       "    </tr>\n",
       "  </thead>\n",
       "  <tbody>\n",
       "    <tr>\n",
       "      <th>1</th>\n",
       "      <td>10</td>\n",
       "      <td>0.2</td>\n",
       "      <td>90</td>\n",
       "      <td>6</td>\n",
       "      <td>6</td>\n",
       "    </tr>\n",
       "    <tr>\n",
       "      <th>2</th>\n",
       "      <td>15</td>\n",
       "      <td>0.5</td>\n",
       "      <td>80</td>\n",
       "      <td>7</td>\n",
       "      <td>7</td>\n",
       "    </tr>\n",
       "    <tr>\n",
       "      <th>3</th>\n",
       "      <td>20</td>\n",
       "      <td>0.8</td>\n",
       "      <td>70</td>\n",
       "      <td>8</td>\n",
       "      <td>8</td>\n",
       "    </tr>\n",
       "    <tr>\n",
       "      <th>4</th>\n",
       "      <td>24</td>\n",
       "      <td>1.3</td>\n",
       "      <td>60</td>\n",
       "      <td>9</td>\n",
       "      <td>9</td>\n",
       "    </tr>\n",
       "    <tr>\n",
       "      <th>5</th>\n",
       "      <td>28</td>\n",
       "      <td>1.8</td>\n",
       "      <td>60</td>\n",
       "      <td>10</td>\n",
       "      <td>10</td>\n",
       "    </tr>\n",
       "    <tr>\n",
       "      <th>6</th>\n",
       "      <td>32</td>\n",
       "      <td>2.4</td>\n",
       "      <td>50</td>\n",
       "      <td>11</td>\n",
       "      <td>11</td>\n",
       "    </tr>\n",
       "    <tr>\n",
       "      <th>7</th>\n",
       "      <td>36</td>\n",
       "      <td>3.0</td>\n",
       "      <td>50</td>\n",
       "      <td>12</td>\n",
       "      <td>12</td>\n",
       "    </tr>\n",
       "    <tr>\n",
       "      <th>8</th>\n",
       "      <td>40</td>\n",
       "      <td>3.7</td>\n",
       "      <td>30</td>\n",
       "      <td>13</td>\n",
       "      <td>13</td>\n",
       "    </tr>\n",
       "    <tr>\n",
       "      <th>9</th>\n",
       "      <td>44</td>\n",
       "      <td>4.5</td>\n",
       "      <td>30</td>\n",
       "      <td>14</td>\n",
       "      <td>14</td>\n",
       "    </tr>\n",
       "    <tr>\n",
       "      <th>10</th>\n",
       "      <td>48</td>\n",
       "      <td>5.3</td>\n",
       "      <td>30</td>\n",
       "      <td>15</td>\n",
       "      <td>15</td>\n",
       "    </tr>\n",
       "    <tr>\n",
       "      <th>11</th>\n",
       "      <td>52</td>\n",
       "      <td>6.2</td>\n",
       "      <td>30</td>\n",
       "      <td>16</td>\n",
       "      <td>16</td>\n",
       "    </tr>\n",
       "    <tr>\n",
       "      <th>12</th>\n",
       "      <td>55</td>\n",
       "      <td>7.2</td>\n",
       "      <td>0</td>\n",
       "      <td>17</td>\n",
       "      <td>17</td>\n",
       "    </tr>\n",
       "  </tbody>\n",
       "</table>\n",
       "</div>"
      ],
      "text/plain": [
       "    LIX  RIX  FLESCH_READING_EASE  FLESCH_KINCAID_GRADE_LEVEL  GUNNING_FOG\n",
       "1    10  0.2                   90                           6            6\n",
       "2    15  0.5                   80                           7            7\n",
       "3    20  0.8                   70                           8            8\n",
       "4    24  1.3                   60                           9            9\n",
       "5    28  1.8                   60                          10           10\n",
       "6    32  2.4                   50                          11           11\n",
       "7    36  3.0                   50                          12           12\n",
       "8    40  3.7                   30                          13           13\n",
       "9    44  4.5                   30                          14           14\n",
       "10   48  5.3                   30                          15           15\n",
       "11   52  6.2                   30                          16           16\n",
       "12   55  7.2                    0                          17           17"
      ]
     },
     "execution_count": 364,
     "metadata": {},
     "output_type": "execute_result"
    }
   ],
   "source": [
    "features_dict = {'LIX': [10, 15, 20, 24, 28, 32, 36, 40, 44, 48, 52, 55], \n",
    "                 'RIX': [0.2, 0.5, 0.8, 1.3, 1.8, 2.4, 3.0, 3.7, 4.5, 5.3, 6.2, 7.2],\n",
    "                 'FLESCH_READING_EASE':[90, 80, 70, 60, 60, 50, 50, 30, 30, 30, 30, 0],\n",
    "                 'FLESCH_KINCAID_GRADE_LEVEL':range(6, 18),\n",
    "                 'GUNNING_FOG': range(6, 18)}\n",
    "read_scales = pd.DataFrame(features_dict, index=range(1, 13)); read_scales"
   ]
  },
  {
   "cell_type": "code",
   "execution_count": 365,
   "metadata": {},
   "outputs": [],
   "source": [
    "def Readability(text):\n",
    "    lix = textstat.lix(text)\n",
    "    rix = textstat.rix(text)\n",
    "    fre = textstat.flesch_reading_ease(text)\n",
    "    fkg = textstat.flesch_kincaid_grade(text)\n",
    "    gf = textstat.gunning_fog(text)\n",
    "    \n",
    "    lix_min = read_scales['LIX'].min()\n",
    "    lix_max = read_scales['LIX'].max()\n",
    "    rix_min = read_scales['RIX'].min()\n",
    "    rix_max = read_scales['RIX'].max()\n",
    "    fre_min = read_scales['FLESCH_READING_EASE'].min()\n",
    "    fre_max = read_scales['FLESCH_READING_EASE'].max()\n",
    "    fkg_min = read_scales['FLESCH_KINCAID_GRADE_LEVEL'].min()\n",
    "    fkg_max = read_scales['FLESCH_KINCAID_GRADE_LEVEL'].max()\n",
    "    gf_min = read_scales['GUNNING_FOG'].min()\n",
    "    gf_max = read_scales['GUNNING_FOG'].max()\n",
    "    \n",
    "    if lix < lix_min: lix_rank = 1\n",
    "    elif lix > lix_max: lix_rank = 12\n",
    "    else: lix_rank = read_scales[(read_scales['LIX'] >= read_scales.loc[read_scales['LIX'] <= lix, 'LIX'].max()) & (read_scales['LIX'] < read_scales.loc[read_scales['LIX'] > lix, 'LIX'].min())].index[0]\n",
    "    \n",
    "    if rix < rix_min: rix_rank = 1\n",
    "    elif rix > rix_max: rix_rank = 12\n",
    "    else: rix_rank = read_scales[(read_scales['RIX'] >= read_scales.loc[read_scales['RIX'] <= rix, 'RIX'].max()) & (read_scales['RIX'] < read_scales.loc[read_scales['RIX'] > rix, 'RIX'].min())].index[0]\n",
    "    \n",
    "    if fre < fre_min: fre_rank = 1\n",
    "    elif fre > fre_max: fre_rank = 12\n",
    "    else: fre_rank = read_scales[(read_scales['FLESCH_READING_EASE'] >= read_scales.loc[read_scales['FLESCH_READING_EASE'] <= fre, 'FLESCH_READING_EASE'].max()) & (read_scales['FLESCH_READING_EASE'] < read_scales.loc[read_scales['FLESCH_READING_EASE'] > fre, 'FLESCH_READING_EASE'].min())].index[0]\n",
    "    \n",
    "    if fkg < fkg_min: fkg_rank = 1\n",
    "    elif fkg > fkg_max: fkg_rank = 12\n",
    "    else: fkg_rank = read_scales[(read_scales['FLESCH_KINCAID_GRADE_LEVEL'] >= read_scales.loc[read_scales['FLESCH_KINCAID_GRADE_LEVEL'] <= fkg, 'FLESCH_KINCAID_GRADE_LEVEL'].max()) & (read_scales['FLESCH_KINCAID_GRADE_LEVEL'] < read_scales.loc[read_scales['FLESCH_KINCAID_GRADE_LEVEL'] > fkg, 'FLESCH_KINCAID_GRADE_LEVEL'].min())].index[0]\n",
    "    \n",
    "    if gf < gf_min: gf_rank = 1\n",
    "    elif gf > gf_max: gf_rank = 12\n",
    "    else: gf_rank = read_scales[(read_scales['GUNNING_FOG'] >= read_scales.loc[read_scales['GUNNING_FOG'] <= gf, 'GUNNING_FOG'].max()) & (read_scales['GUNNING_FOG'] < read_scales.loc[read_scales['GUNNING_FOG'] > gf, 'GUNNING_FOG'].min())].index[0]\n",
    "    \n",
    "    ranks = [lix_rank, rix_rank, fre_rank, fkg_rank, gf_rank]\n",
    "    \n",
    "    return statistics.fmean(ranks)"
   ]
  },
  {
   "cell_type": "markdown",
   "metadata": {},
   "source": [
    "BE CAREFUL: the next cell takes about 8 MINUTES to compute that's why we provided an html file as example."
   ]
  },
  {
   "cell_type": "code",
   "execution_count": 366,
   "metadata": {
    "scrolled": true
   },
   "outputs": [
    {
     "name": "stdout",
     "output_type": "stream",
     "text": [
      "tendance 1/10\n",
      "   article 1/10\n",
      "   article 2/10\n",
      "   article 3/10\n",
      "   article 4/10\n",
      "   article 5/10\n",
      "   article 6/10\n",
      "   article 7/10\n",
      "   article 8/10\n",
      "   article 9/10\n",
      "   article 10/10\n",
      "tendance 2/10\n",
      "   article 1/10\n",
      "   article 2/10\n",
      "   article 3/10\n",
      "   article 4/10\n",
      "   article 5/10\n",
      "   article 6/10\n",
      "   article 7/10\n",
      "   article 8/10\n",
      "   article 9/10\n",
      "   article 10/10\n",
      "tendance 3/10\n",
      "   article 1/10\n",
      "   article 2/10\n",
      "   article 3/10\n",
      "   article 4/10\n",
      "   article 5/10\n",
      "   article 6/10\n",
      "   article 7/10\n",
      "   article 8/10\n",
      "   article 9/10\n",
      "   article 10/10\n",
      "tendance 4/10\n",
      "   article 1/10\n",
      "   article 2/10\n",
      "   article 3/10\n",
      "   article 4/10\n",
      "   article 5/10\n",
      "   article 6/10\n",
      "   article 8/10\n",
      "   article 9/10\n",
      "   article 10/10\n",
      "tendance 5/10\n",
      "   article 1/10\n",
      "   article 2/10\n",
      "   article 3/10\n",
      "   article 4/10\n",
      "   article 5/10\n",
      "tendance 6/10\n",
      "   article 1/10\n",
      "   article 2/10\n",
      "   article 3/10\n",
      "   article 4/10\n",
      "   article 5/10\n",
      "   article 6/10\n",
      "   article 7/10\n",
      "   article 8/10\n",
      "   article 9/10\n",
      "   article 10/10\n",
      "tendance 7/10\n",
      "   article 1/10\n",
      "   article 2/10\n",
      "   article 4/10\n",
      "   article 5/10\n",
      "   article 6/10\n",
      "   article 7/10\n",
      "   article 8/10\n",
      "   article 9/10\n",
      "   article 10/10\n",
      "tendance 8/10\n",
      "   article 1/10\n",
      "   article 2/10\n",
      "   article 3/10\n",
      "   article 4/10\n",
      "   article 5/10\n",
      "   article 6/10\n",
      "   article 7/10\n",
      "   article 8/10\n",
      "   article 9/10\n",
      "   article 10/10\n",
      "tendance 9/10\n",
      "   article 1/10\n",
      "   article 2/10\n",
      "   article 3/10\n",
      "   article 4/10\n",
      "   article 5/10\n",
      "   article 6/10\n",
      "   article 7/10\n",
      "   article 8/10\n",
      "   article 9/10\n",
      "   article 10/10\n",
      "tendance 10/10\n",
      "   article 1/10\n",
      "   article 2/10\n",
      "   article 3/10\n",
      "   article 4/10\n",
      "   article 5/10\n",
      "   article 6/10\n",
      "   article 7/10\n",
      "   article 8/10\n",
      "   article 9/10\n",
      "   article 10/10\n",
      "8.0 minutes and 48.10544681549072 seconds\n"
     ]
    }
   ],
   "source": [
    "start = time.time()\n",
    "links = []\n",
    "scores = []\n",
    "for p, page in enumerate(pages_html):\n",
    "    l = []\n",
    "    s = []\n",
    "    print(f'tendance {p+1}/10')\n",
    "    for i, a in enumerate(page):\n",
    "        try:\n",
    "            prefix = \"https://news.google.com\"\n",
    "            link = prefix + a.find('a', {'class':'VDXfz'}).get('href')[1:]\n",
    "            l.append(link)\n",
    "            driver.get(link)\n",
    "            driver.implicitly_wait(10)\n",
    "            time.sleep(1)\n",
    "            url = driver.current_url\n",
    "            article = Article(url)\n",
    "            article.download()\n",
    "            article.parse()\n",
    "            article.nlp()\n",
    "            text = article.text\n",
    "            score = Readability(text)\n",
    "            s.append(score)\n",
    "        except ArticleException:\n",
    "            s.append(999)\n",
    "            continue\n",
    "        print(f'   article {i+1}/10')\n",
    "    links.append(l)\n",
    "    scores.append(s)\n",
    "end = time.time()\n",
    "computation_time = end - start\n",
    "print(f'{computation_time//60} minutes and {computation_time%60} seconds')"
   ]
  },
  {
   "cell_type": "code",
   "execution_count": 367,
   "metadata": {},
   "outputs": [
    {
     "data": {
      "text/plain": [
       "[[10.4, 7.0, 6.0, 9.0, 5.8, 6.0, 4.6, 5.0, 11.2, 9.0],\n",
       " [6.2, 4.0, 8.4, 9.0, 7.8, 8.8, 7.8, 5.2, 6.0, 7.2],\n",
       " [3.4, 4.4, 7.2, 6.8, 7.6, 10.0, 9.8, 9.6, 8.8, 9.2],\n",
       " [6.4, 12.0, 6.6, 3.8, 11.2, 6.8, 999, 3.2, 6.4, 9.8],\n",
       " [12.0, 3.2, 3.2, 5.8, 5.0],\n",
       " [3.4, 5.8, 5.8, 4.8, 5.2, 7.8, 5.8, 6.0, 9.4, 5.6],\n",
       " [5.8, 4.4, 999, 8.4, 4.8, 7.2, 6.8, 7.6, 4.8, 5.2],\n",
       " [6.8, 10.0, 7.0, 2.6, 4.0, 7.8, 6.4, 2.6, 4.0, 8.2],\n",
       " [7.6, 10.6, 8.2, 8.8, 9.2, 6.6, 9.4, 9.0, 9.6, 9.4],\n",
       " [7.8, 8.6, 7.6, 6.2, 4.6, 6.2, 8.2, 11.0, 7.0, 8.2]]"
      ]
     },
     "execution_count": 367,
     "metadata": {},
     "output_type": "execute_result"
    }
   ],
   "source": [
    "scores"
   ]
  },
  {
   "cell_type": "code",
   "execution_count": 368,
   "metadata": {},
   "outputs": [
    {
     "data": {
      "text/plain": [
       "[6, 1, 0, 7, 1, 0, 1, 3, 5, 4]"
      ]
     },
     "execution_count": 368,
     "metadata": {},
     "output_type": "execute_result"
    }
   ],
   "source": [
    "best_articles_index = [np.argmin(s) for s in scores]; best_articles_index"
   ]
  },
  {
   "cell_type": "markdown",
   "metadata": {},
   "source": [
    "# Information of article scraping"
   ]
  },
  {
   "cell_type": "code",
   "execution_count": 418,
   "metadata": {},
   "outputs": [
    {
     "name": "stdout",
     "output_type": "stream",
     "text": [
      "0\n",
      "1\n",
      "2\n",
      "3\n",
      "4\n",
      "5\n",
      "6\n",
      "7\n",
      "8\n",
      "9\n"
     ]
    }
   ],
   "source": [
    "best_articles = []\n",
    "for page, link, best in zip(pages_html, links, best_articles_index):\n",
    "    print(pages_html.index(page))\n",
    "    article = {}\n",
    "    driver.get(link[best])\n",
    "    driver.implicitly_wait(10)\n",
    "    time.sleep(1)\n",
    "    url = driver.current_url\n",
    "    a = Article(url)\n",
    "    a.download()\n",
    "    a.parse()\n",
    "    a.nlp()\n",
    "    title = a.title\n",
    "    article['title'] = title\n",
    "    newspaper = page[best].find('div', {'class': 'wsLqz RD0gLb'}).find('img')['alt']\n",
    "    article['newspaper'] = newspaper\n",
    "    summary = a.summary\n",
    "    article['summary'] = summary\n",
    "    article['url'] = url\n",
    "    pic = a.top_image.replace(' ', '%20')\n",
    "    article['picture'] = pic\n",
    "    best_articles.append(article)"
   ]
  },
  {
   "cell_type": "code",
   "execution_count": 429,
   "metadata": {},
   "outputs": [
    {
     "name": "stdout",
     "output_type": "stream",
     "text": [
      "title: \"Elle pleure comme si elle avait perdu un proche\" : Poupette Kenza effondrée après avoir perdu son compte Snapchat, les internautes se moquent d'elle\n",
      "newspaper: Purebreak\n",
      "summary: Poupette Kenza est l'une des influenceuses avec la plus grande fan base.\n",
      "\"Après une nuit blanche et une journée à vomir, on va mettre à l'honneur mes haters une dernière fois aujourd'hui avant que je m'en aille (...).\n",
      "Je veux une vie de paix et tranquille, sachez aujourd'hui que vous m'avez vaincue et que je mets fin à 'poupette'\", avait-elle affirmé.\n",
      "\"Je ne sais pas ce qui s'est passé mes poupettes, mais là, c'est fini.\n",
      "On m'a dit que je ne pourrai plus faire de compte.\n",
      "url: https://www.purebreak.com/news/-elle-pleure-comme-si-elle-avait-perdu-un-proche-poupette-kenza-effondree-apres-avoir-perdu-son-compte-snapchat-les-internautes-se-moquent-d-elle/241524\n",
      "picture: https://static1.purebreak.com/articles/4/24/15/24/@/805854-poupette-temoigne-sur-son-harcelement-da-opengraph_1200-4.jpg\n"
     ]
    }
   ],
   "source": [
    "for k, v in best_articles[0].items():\n",
    "    print(f'{k}: {v}')"
   ]
  },
  {
   "cell_type": "code",
   "execution_count": 558,
   "metadata": {},
   "outputs": [],
   "source": [
    "def getScore(text):\n",
    "    score = SIA.polarity_scores(text).get('compound') \n",
    "    return score"
   ]
  },
  {
   "cell_type": "code",
   "execution_count": 559,
   "metadata": {},
   "outputs": [],
   "source": [
    "def getOpinion(score):\n",
    "    if score > 0.5:\n",
    "        return \"Opinion : Favorable\"\n",
    "    if score > 0.250:\n",
    "        return \"Opinion : Plutôt favorable\"\n",
    "    if score < -0.5:\n",
    "        return \"Opinion : Critique\"\n",
    "    if score < -0.250:\n",
    "        return \"Opinion : Plutôt Critique\"\n",
    "    else:\n",
    "        return \"Opinion : Neutre\""
   ]
  },
  {
   "cell_type": "code",
   "execution_count": 560,
   "metadata": {},
   "outputs": [],
   "source": [
    "def getSentiment(text):\n",
    "    stop_words = set(stopwords.words('french'))\n",
    "    clean = \" \".join([word for word in str(text).split() if word not in stop_words])\n",
    "    from nltk.stem.snowball import FrenchStemmer\n",
    "    stemmer = FrenchStemmer()\n",
    "    stemmed = \" \".join([stemmer.stem(word) for word in clean.split(\",\")])\n",
    "    return getOpinion(getScore(stemmed))"
   ]
  },
  {
   "cell_type": "markdown",
   "metadata": {},
   "source": [
    "# HTML structure"
   ]
  },
  {
   "cell_type": "code",
   "execution_count": 564,
   "metadata": {},
   "outputs": [],
   "source": [
    "template = Template(\"\"\"\n",
    "<div style=\"display: flex; margin-bottom: 20px;\">\n",
    "    <img src=\"{{ item.picture }}\"\n",
    "    style=\"float: right; margin-right: 20px; max-width: 200px; max-height: 200px;\"\n",
    "    alt=\"{{ item.newspaper}}\">\n",
    "    <div style=\"flex-direction: column;\">\n",
    "        <h3>{{ trend }}</h3>\n",
    "        <p>{{ sentiment }}</p>\n",
    "        <a href=\"{{ item.url }}\">\n",
    "            <h4>{{ item.title }}</h3>\n",
    "        </a>\n",
    "        <p>{{ item.summary }}</p>\n",
    "    </div>\n",
    "</div>\n",
    "\"\"\")\n",
    "\n",
    "html_content = \"\"\n",
    "for item, trend in zip(best_articles, trends):\n",
    "    html_content += template.render(trend=trend, item=item, sentiment=getSentiment(item['summary']))"
   ]
  },
  {
   "cell_type": "code",
   "execution_count": 565,
   "metadata": {},
   "outputs": [],
   "source": [
    "page = \"\"\"\n",
    "<html>\n",
    "    <head>\n",
    "        <title>{{ title }}</title>\n",
    "        <style>\n",
    "            .center {\n",
    "                text-align: center;\n",
    "                margin-bottom: 50px;\n",
    "            }\n",
    "        </style>\n",
    "        <meta charset=\"utf-8\">\n",
    "    </head>\n",
    "    <body>\n",
    "        <div class=\"center\">\n",
    "            <h1>{{ title }}</h1>\n",
    "            <h2>{{ byline }}</h2>\n",
    "            <h3>{{ date }}</h3>\n",
    "        </div>\n",
    "        {{ html_content }}\n",
    "    </body>\n",
    "</html>\n",
    "\"\"\"\n",
    "template = Template(page)\n",
    "now = datetime.now()\n",
    "html = template.render(title='Mon Grand Quotidien', byline='by Théo & Benjamin', html_content=html_content, date=now.strftime('%Y-%m-%d'))"
   ]
  },
  {
   "cell_type": "code",
   "execution_count": 566,
   "metadata": {},
   "outputs": [
    {
     "data": {
      "text/html": [
       "\n",
       "<html>\n",
       "    <head>\n",
       "        <title>Mon Grand Quotidien</title>\n",
       "        <style>\n",
       "            .center {\n",
       "                text-align: center;\n",
       "                margin-bottom: 50px;\n",
       "            }\n",
       "        </style>\n",
       "        <meta charset=\"utf-8\">\n",
       "    </head>\n",
       "    <body>\n",
       "        <div class=\"center\">\n",
       "            <h1>Mon Grand Quotidien</h1>\n",
       "            <h2>by Théo & Benjamin</h2>\n",
       "            <h3>2023-01-20</h3>\n",
       "        </div>\n",
       "        \n",
       "<div style=\"display: flex; margin-bottom: 20px;\">\n",
       "    <img src=\"https://static1.purebreak.com/articles/4/24/15/24/@/805854-poupette-temoigne-sur-son-harcelement-da-opengraph_1200-4.jpg\"\n",
       "    style=\"float: right; margin-right: 20px; max-width: 200px; max-height: 200px;\"\n",
       "    alt=\"Purebreak\">\n",
       "    <div style=\"flex-direction: column;\">\n",
       "        <h3>Snapchat</h3>\n",
       "        <p>Opinion : Plutôt Critique</p>\n",
       "        <a href=\"https://www.purebreak.com/news/-elle-pleure-comme-si-elle-avait-perdu-un-proche-poupette-kenza-effondree-apres-avoir-perdu-son-compte-snapchat-les-internautes-se-moquent-d-elle/241524\">\n",
       "            <h4>\"Elle pleure comme si elle avait perdu un proche\" : Poupette Kenza effondrée après avoir perdu son compte Snapchat, les internautes se moquent d'elle</h3>\n",
       "        </a>\n",
       "        <p>Poupette Kenza est l'une des influenceuses avec la plus grande fan base.\n",
       "\"Après une nuit blanche et une journée à vomir, on va mettre à l'honneur mes haters une dernière fois aujourd'hui avant que je m'en aille (...).\n",
       "Je veux une vie de paix et tranquille, sachez aujourd'hui que vous m'avez vaincue et que je mets fin à 'poupette'\", avait-elle affirmé.\n",
       "\"Je ne sais pas ce qui s'est passé mes poupettes, mais là, c'est fini.\n",
       "On m'a dit que je ne pourrai plus faire de compte.</p>\n",
       "    </div>\n",
       "</div>\n",
       "<div style=\"display: flex; margin-bottom: 20px;\">\n",
       "    <img src=\"https://france3-regions.francetvinfo.fr/image/cfAtLpxsrRI6hDAWRT2vpinaWEY/930x620/regions/2023/01/19/63c9577baf633_000-337d9jx-46ans.jpg\"\n",
       "    style=\"float: right; margin-right: 20px; max-width: 200px; max-height: 200px;\"\n",
       "    alt=\"France 3 Régions\">\n",
       "    <div style=\"flex-direction: column;\">\n",
       "        <h3>#greve19janvier</h3>\n",
       "        <p>Opinion : Plutôt Critique</p>\n",
       "        <a href=\"https://france3-regions.francetvinfo.fr/bretagne/ille-et-vilaine/rennes/reforme-des-retraites-journee-de-mobilisation-en-bretagne-les-premiers-blocages-et-defiles-ont-debute-2697082.html\">\n",
       "            <h4>EN IMAGES. Manifestation du 19 janvier : Plus de 17.000 manifestants à Rennes, une mobilisation d'ampleur en Bretagne contre la réforme des retraites</h3>\n",
       "        </a>\n",
       "        <p>De Vannes, à Brest ou Saint-Malo, des manifestations d'ampleur ont uni les syndicats, étudiants, retraités et travailleurs face à la réforme des retraites.\n",
       "En fin de cortège, des tensions à RennesSi l'ensemble des défilés en Bretagne se sont déroulés dans le calme.\n",
       "Entre 17.000 et 25.000 manifestants ont défilé à Rennes contre le projet de recul de l'âge légal de la retraite ce 19 janvier 2023 • © DAMIEN MEYER / AFP13h10 à Rennes.\n",
       "• © DAMIEN MEYER / AFPLes rendez-vous des cortèges à Rennes, Lorient, Brest et Saint-BrieucLes syndicats ont appelé à se retrouver à 11h à Rennes.\n",
       "Où et quand sont les manifestations du 19 janvier en BretagneÀ Brest, les opposants à la réforme du gouvernement sont attendus dès 10h30 sur la place de la Liberté.</p>\n",
       "    </div>\n",
       "</div>\n",
       "<div style=\"display: flex; margin-bottom: 20px;\">\n",
       "    <img src=\"https://francoischarron.com/images/templates/chronique/format_1/Pour%20ne%20plus%20avoir%20froid%20la%20nuit.png\"\n",
       "    style=\"float: right; margin-right: 20px; max-width: 200px; max-height: 200px;\"\n",
       "    alt=\"François Charron\">\n",
       "    <div style=\"flex-direction: column;\">\n",
       "        <h3>Hobi</h3>\n",
       "        <p>Opinion : Favorable</p>\n",
       "        <a href=\"https://francoischarron.com/videos-humour/webbuzz-liste/ultime-truc-pour-ne-plus-avoir-froid-la-nuit/pCoYz96iBj/\">\n",
       "            <h4>Ultime truc pour ne plus avoir froid la nuit!</h3>\n",
       "        </a>\n",
       "        <p>Voici l’ultime bricolage pour ne plus jamais avoir froid pendant la nuit, même en hiver!\n",
       "Un gros merci au compte Instagram de déco et de bricolage maison tasarim.ve.hobi pour la suggestion.\n",
       "Près d’un million de personnes suivent ses clips sur Insta, on s'entend que ce n'est pas pour rien!\n",
       "Je sens qu’on va sauver des mariage avec ce conseil!\n",
       "Voir le compte de tasarim.ve.hob</p>\n",
       "    </div>\n",
       "</div>\n",
       "<div style=\"display: flex; margin-bottom: 20px;\">\n",
       "    <img src=\"https://images.beinsports.com/VrHXATE_-9gUUYVnFoZ9Zf4wxts=/670x424/smart/filters:watermark(https://assets.beinsports.com/picto-play.png,285,162,0)/4583653-vlcsnap-2023-01-16-22h57m33s655.png\"\n",
       "    style=\"float: right; margin-right: 20px; max-width: 200px; max-height: 200px;\"\n",
       "    alt=\"beIN SPORTS\">\n",
       "    <div style=\"flex-direction: column;\">\n",
       "        <h3>Bein 2</h3>\n",
       "        <p>Opinion : Neutre</p>\n",
       "        <a href=\"https://www.beinsports.com/france/ligue-2/video/resume-charbonnier-sauve-saint-etienne-a-nior/2023455\">\n",
       "            <h4>Résumé : Charbonnier sauve Saint-Etienne à Niort</h3>\n",
       "        </a>\n",
       "        <p></p>\n",
       "    </div>\n",
       "</div>\n",
       "<div style=\"display: flex; margin-bottom: 20px;\">\n",
       "    <img src=\"http://media.culturepsg.com/image/news/diffusion_psg_riyadh_season_amical_19012023.jpg\"\n",
       "    style=\"float: right; margin-right: 20px; max-width: 200px; max-height: 200px;\"\n",
       "    alt=\"CulturePSG.com\">\n",
       "    <div style=\"flex-direction: column;\">\n",
       "        <h3>#PSGRiyadhSeasonTeam</h3>\n",
       "        <p>Opinion : Neutre</p>\n",
       "        <a href=\"https://www.culturepsg.com/bg/news/match/riyadh-season-psg-chaine-tv-commentateurs-et-rediffusion/45608;jsessionid=67A55AF44B3E480F1733275E63B71BA2\">\n",
       "            <h4>Riyadh Season/PSG, chaîne TV, commentateurs et rediffusion</h3>\n",
       "        </a>\n",
       "        <p></p>\n",
       "    </div>\n",
       "</div>\n",
       "<div style=\"display: flex; margin-bottom: 20px;\">\n",
       "    <img src=\"https://i.eurosport.com/2023/01/17/3528448-71916128-2560-1440.jpg\"\n",
       "    style=\"float: right; margin-right: 20px; max-width: 200px; max-height: 200px;\"\n",
       "    alt=\"Eurosport FR\">\n",
       "    <div style=\"flex-direction: column;\">\n",
       "        <h3>Murray</h3>\n",
       "        <p>Opinion : Neutre</p>\n",
       "        <a href=\"https://www.eurosport.fr/tennis/open-d-australie-messieurs/2023/live-andy-murray-thanasi-kokkinakis_mtc1417159/live-commentary.shtml\">\n",
       "            <h4>Open d'Australie 2023 - Deuxième tour - Résultat de Murray - Kokkinakis : Murray remporte un nouveau marathon</h3>\n",
       "        </a>\n",
       "        <p>Open d'Australie 2023 - Deuxième tour - Résultat de Murray - Kokkinakis : Murray remporte un nouveau marathonA. Murray contre T. Kokkinakis | Open d'AustralieSimples masculins | Tour 2 | 19.01.2023 | Margaret Court Arena</p>\n",
       "    </div>\n",
       "</div>\n",
       "<div style=\"display: flex; margin-bottom: 20px;\">\n",
       "    <img src=\"https://www.booska-p.com/wp-content/uploads/2022/12/Mister-V-Nom-Rappeur-Visu-News.jpg\"\n",
       "    style=\"float: right; margin-right: 20px; max-width: 200px; max-height: 200px;\"\n",
       "    alt=\"Booska-p\">\n",
       "    <div style=\"flex-direction: column;\">\n",
       "        <h3>Mister V</h3>\n",
       "        <p>Opinion : Critique</p>\n",
       "        <a href=\"https://www.booska-p.com/musique/actualites/mister-v-devoile-son-premier-nom-de-rappeur-et-il-nen-est-pas-tres-fier/\">\n",
       "            <h4>Mister V dévoile son premier nom de rappeur… Et il n’en est pas très fier</h3>\n",
       "        </a>\n",
       "        <p>Aujourd’hui, on découvre le premier nom de rappeur du Grenoblois.\n",
       "« V.I.C.K.O, trois rimes t’es KO »Très présent sur YouTube et Twitch ces derniers temps, Mister V était l’invité de Joyca dans la Joycar pour un épisode inédit.\n",
       "Plus tôt dans la vidéo, Yvick s’est confié sur son premier nom d’artiste.\n",
       "Dans des propos retranscrits par Interlude, le rappeur déclare : « Mon premier blase de rappeur, parce que moi j’ai commencé par la musique avant de faire des vidéos, c’était Vicko.\n",
       "» Une séquence hilarante, à retrouver juste ici dans la dernière vidéo de Joyca.</p>\n",
       "    </div>\n",
       "</div>\n",
       "<div style=\"display: flex; margin-bottom: 20px;\">\n",
       "    <img src=\"https://www.programme-tv.net/imgre/fit/~1~tel~2023~01~18~3987ef2e-0237-48e2-9c8a-f4bd52a23da3.png/1200x600/crop-from/top/quality/80/focus-point/546,295/stranger-things-cette-star-revele-avoir-eu-son-tout-premier-baiser-avec-l-un-de-ses-partenaires-dans-la-serie.jpg\"\n",
       "    style=\"float: right; margin-right: 20px; max-width: 200px; max-height: 200px;\"\n",
       "    alt=\"Télé-Loisirs\">\n",
       "    <div style=\"flex-direction: column;\">\n",
       "        <h3>Stranger Things</h3>\n",
       "        <p>Opinion : Neutre</p>\n",
       "        <a href=\"https://www.programme-tv.net/news/series-tv/318285-stranger-things-cette-star-revele-avoir-eu-son-tout-premier-baiser-avec-lun-de-ses-partenaires-dans-la-serie/\">\n",
       "            <h4>Stranger Things : cette star révèle avoir eu son tout premier baiser avec l'un de ses partenaires dans la série</h3>\n",
       "        </a>\n",
       "        <p>On éteint les lumières sur Télé‑Loisirs !\n",
       "En décalé avec EDFAvec En Décalé, EDF passe votre site en mode sombre dès 18h.\n",
       "Un geste simple pour réduire sa conso pendant les pics énergiques.</p>\n",
       "    </div>\n",
       "</div>\n",
       "<div style=\"display: flex; margin-bottom: 20px;\">\n",
       "    <img src=\"https://www.francetvinfo.fr/pictures/bfF0FZMPx2o-tZs6RKszilvkSYE/1500x843/2022/12/25/63a856a5d8e88_000-33643ht.jpg\"\n",
       "    style=\"float: right; margin-right: 20px; max-width: 200px; max-height: 200px;\"\n",
       "    alt=\"franceinfo\">\n",
       "    <div style=\"flex-direction: column;\">\n",
       "        <h3>Espagne</h3>\n",
       "        <p>Opinion : Critique</p>\n",
       "        <a href=\"https://www.francetvinfo.fr/monde/espagne/espagne-quatre-morts-apres-la-chute-spectaculaire-d-un-car-dans-une-riviere_5563317.html\">\n",
       "            <h4>Espagne : sept morts et deux blessés après la chute d'un car dans une rivière</h3>\n",
       "        </a>\n",
       "        <p>Le conducteur du car, qui fait partie des deux survivants, a été contrôlé négatif à l'alcool et aux stupéfiants.\n",
       "Le véhicule est tombé dans une rivière alors qu'il circulait sur un pont, samedi un peu avant 21h30, sur la commune de Cerdedo-Cotobade, en Galice.\n",
       "Les deux premières victimes ont été retrouvées dans la nuit de samedi à dimanche, près de l'épave du car.\n",
       "Par ailleurs, deux survivants ont été secourus, dont le chauffeur du véhicule et une passagère.\n",
       "Un automobiliste a donné l'alerte après avoir constaté que le rail de sécurité était détruit sur le pont où a eu lieu l'accident.</p>\n",
       "    </div>\n",
       "</div>\n",
       "<div style=\"display: flex; margin-bottom: 20px;\">\n",
       "    <img src=\"https://media.lesechos.com/api/v1/images/view/63c4e5d1ca77d819087b3d85/1280x720/0703201103050-web-tete.jpg\"\n",
       "    style=\"float: right; margin-right: 20px; max-width: 200px; max-height: 200px;\"\n",
       "    alt=\"Les Échos\">\n",
       "    <div style=\"flex-direction: column;\">\n",
       "        <h3>Caesar</h3>\n",
       "        <p>Opinion : Neutre</p>\n",
       "        <a href=\"https://www.lesechos.fr/industrie-services/air-defense/defense-les-ventes-record-de-canons-caesar-font-tourner-nexter-a-plein-regime-1897374\">\n",
       "            <h4>Défense : les ventes de canons Caesar obligent Nexter à tourner à plein régime</h3>\n",
       "        </a>\n",
       "        <p>Par Anne BauerPublié le 16 janv.\n",
       "2023 à 6:51 Mis à jour le 16 janv.\n",
       "C'est le cas notamment à Bourges, où il intègre les systèmes d'artillerie Caesar.\n",
       "Car en 2022, Nexter a enregistré des commandes pour 55 canons automoteurs, montés sur des châssis de 6x6 ou de 8x8 roues.\n",
       "Pour l'entreprise, c'est un record depuis sa mise en service à la fin des années 2000.</p>\n",
       "    </div>\n",
       "</div>\n",
       "    </body>\n",
       "</html>"
      ],
      "text/plain": [
       "<IPython.core.display.HTML object>"
      ]
     },
     "execution_count": 566,
     "metadata": {},
     "output_type": "execute_result"
    }
   ],
   "source": [
    "HTML(html)"
   ]
  },
  {
   "cell_type": "markdown",
   "metadata": {},
   "source": [
    "# Render"
   ]
  },
  {
   "cell_type": "markdown",
   "metadata": {},
   "source": [
    "The final render is an html file, you can run the next cell to download and open it directly."
   ]
  },
  {
   "cell_type": "code",
   "execution_count": 567,
   "metadata": {
    "scrolled": true
   },
   "outputs": [
    {
     "data": {
      "text/plain": [
       "True"
      ]
     },
     "execution_count": 567,
     "metadata": {},
     "output_type": "execute_result"
    }
   ],
   "source": [
    "filename = \"MonGrandQuotidien_\" + now.strftime('%Y-%m-%d') + \".html\"\n",
    "with open(filename, 'w', encoding='utf-8') as file:\n",
    "    file.write(html)\n",
    "webbrowser.open(filename)"
   ]
  },
  {
   "cell_type": "code",
   "execution_count": 569,
   "metadata": {},
   "outputs": [],
   "source": [
    "#!pip freeze > requirements.txt"
   ]
  }
 ],
 "metadata": {
  "kernelspec": {
   "display_name": "scrapRep",
   "language": "python",
   "name": "scraprep"
  },
  "language_info": {
   "codemirror_mode": {
    "name": "ipython",
    "version": 3
   },
   "file_extension": ".py",
   "mimetype": "text/x-python",
   "name": "python",
   "nbconvert_exporter": "python",
   "pygments_lexer": "ipython3",
   "version": "3.10.1"
  },
  "vscode": {
   "interpreter": {
    "hash": "8b9feb76b8363687acdae3ac56b2c897b8844ec09dda4a05dbd959a95d34bf01"
   }
  }
 },
 "nbformat": 4,
 "nbformat_minor": 2
}
